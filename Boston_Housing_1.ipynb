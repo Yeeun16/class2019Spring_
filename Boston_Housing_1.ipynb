{
  "nbformat": 4,
  "nbformat_minor": 0,
  "metadata": {
    "colab": {
      "name": "Boston_Housing_1.ipynb",
      "version": "0.3.2",
      "provenance": [],
      "collapsed_sections": [],
      "include_colab_link": true
    },
    "kernelspec": {
      "name": "python3",
      "display_name": "Python 3"
    }
  },
  "cells": [
    {
      "cell_type": "markdown",
      "metadata": {
        "id": "view-in-github",
        "colab_type": "text"
      },
      "source": [
        "<a href=\"https://colab.research.google.com/github/Yeeun16/class2019Spring_/blob/master/Boston_Housing_1.ipynb\" target=\"_parent\"><img src=\"https://colab.research.google.com/assets/colab-badge.svg\" alt=\"Open In Colab\"/></a>"
      ]
    },
    {
      "cell_type": "code",
      "metadata": {
        "id": "hy2WnyyykcbS",
        "colab_type": "code",
        "colab": {}
      },
      "source": [
        "import tensorflow\n",
        "from tensorflow.keras.models import Sequential\n",
        "from tensorflow.keras.layers import Dense, Activation\n",
        "\n",
        "import numpy as np\n",
        "import matplotlib.pyplot as plt"
      ],
      "execution_count": 0,
      "outputs": []
    },
    {
      "cell_type": "code",
      "metadata": {
        "id": "37o0kQTd4zqW",
        "colab_type": "code",
        "outputId": "7fa39182-2613-493d-8c09-e4e6af25f8fb",
        "colab": {
          "base_uri": "https://localhost:8080/",
          "height": 72
        }
      },
      "source": [
        "(x_train, y_train), (x_test, y_test) = tensorflow.keras.datasets.boston_housing.load_data(path='boston_housing.npz')"
      ],
      "execution_count": 0,
      "outputs": [
        {
          "output_type": "stream",
          "text": [
            "Downloading data from https://storage.googleapis.com/tensorflow/tf-keras-datasets/boston_housing.npz\n",
            "57344/57026 [==============================] - 0s 0us/step\n"
          ],
          "name": "stdout"
        }
      ]
    },
    {
      "cell_type": "code",
      "metadata": {
        "id": "IAykztHN6tkV",
        "colab_type": "code",
        "outputId": "3b2bf211-3f69-4519-9ab1-e9fe16582235",
        "colab": {
          "base_uri": "https://localhost:8080/",
          "height": 336
        }
      },
      "source": [
        "model = Sequential()\n",
        "model.add(Dense(10, input_shape=[13], activation = 'relu'))\n",
        "model.add(Dense(1))\n",
        "model.compile(optimizer='rmsprop', loss='mse')\n",
        "model.summary()"
      ],
      "execution_count": 0,
      "outputs": [
        {
          "output_type": "stream",
          "text": [
            "WARNING:tensorflow:From /usr/local/lib/python3.6/dist-packages/tensorflow/python/ops/resource_variable_ops.py:435: colocate_with (from tensorflow.python.framework.ops) is deprecated and will be removed in a future version.\n",
            "Instructions for updating:\n",
            "Colocations handled automatically by placer.\n",
            "WARNING:tensorflow:From /usr/local/lib/python3.6/dist-packages/tensorflow/python/keras/utils/losses_utils.py:170: to_float (from tensorflow.python.ops.math_ops) is deprecated and will be removed in a future version.\n",
            "Instructions for updating:\n",
            "Use tf.cast instead.\n",
            "_________________________________________________________________\n",
            "Layer (type)                 Output Shape              Param #   \n",
            "=================================================================\n",
            "dense (Dense)                (None, 10)                140       \n",
            "_________________________________________________________________\n",
            "dense_1 (Dense)              (None, 1)                 11        \n",
            "=================================================================\n",
            "Total params: 151\n",
            "Trainable params: 151\n",
            "Non-trainable params: 0\n",
            "_________________________________________________________________\n"
          ],
          "name": "stdout"
        }
      ]
    },
    {
      "cell_type": "markdown",
      "metadata": {
        "id": "2oa00t8DNrEx",
        "colab_type": "text"
      },
      "source": [
        "input_shape[13]으로 \n",
        "regression인 경우 model.compile(optimizer='rmsproop', loss='mse')\n",
        "model.summary() #input은 13개인데 params는 140개? 실질적으로 +1 때문에 params 140개이다\n",
        "\n",
        "model.add(Dense(10, input_shape[13]))\n",
        "model.add(Dense(1))\n",
        "13개의 입력 10개의 hidden layer, 출력 1개"
      ]
    },
    {
      "cell_type": "code",
      "metadata": {
        "id": "qePugaAZTCse",
        "colab_type": "code",
        "outputId": "b5da3431-6eb7-487e-8605-749164bd5abc",
        "colab": {
          "base_uri": "https://localhost:8080/",
          "height": 52
        }
      },
      "source": [
        "print(model.input_shape)\n",
        "print(model.output_shape)"
      ],
      "execution_count": 0,
      "outputs": [
        {
          "output_type": "stream",
          "text": [
            "(None, 13)\n",
            "(None, 1)\n"
          ],
          "name": "stdout"
        }
      ]
    },
    {
      "cell_type": "code",
      "metadata": {
        "id": "vpiYCEBWPAOi",
        "colab_type": "code",
        "outputId": "03d20f07-3a02-4348-f80f-49f1a4ea1924",
        "colab": {
          "base_uri": "https://localhost:8080/",
          "height": 3627
        }
      },
      "source": [
        "model.fit(x_train, y_train, epochs=100, batch_size=32)"
      ],
      "execution_count": 0,
      "outputs": [
        {
          "output_type": "stream",
          "text": [
            "WARNING:tensorflow:From /usr/local/lib/python3.6/dist-packages/tensorflow/python/ops/math_ops.py:3066: to_int32 (from tensorflow.python.ops.math_ops) is deprecated and will be removed in a future version.\n",
            "Instructions for updating:\n",
            "Use tf.cast instead.\n",
            "Epoch 1/100\n",
            "404/404 [==============================] - 1s 1ms/sample - loss: 7174.6572\n",
            "Epoch 2/100\n",
            "404/404 [==============================] - 0s 48us/sample - loss: 5394.8423\n",
            "Epoch 3/100\n",
            "404/404 [==============================] - 0s 49us/sample - loss: 4264.8211\n",
            "Epoch 4/100\n",
            "404/404 [==============================] - 0s 44us/sample - loss: 3377.5602\n",
            "Epoch 5/100\n",
            "404/404 [==============================] - 0s 51us/sample - loss: 2701.4769\n",
            "Epoch 6/100\n",
            "404/404 [==============================] - 0s 46us/sample - loss: 2154.0752\n",
            "Epoch 7/100\n",
            "404/404 [==============================] - 0s 43us/sample - loss: 1669.1969\n",
            "Epoch 8/100\n",
            "404/404 [==============================] - 0s 46us/sample - loss: 1246.3676\n",
            "Epoch 9/100\n",
            "404/404 [==============================] - 0s 46us/sample - loss: 894.6439\n",
            "Epoch 10/100\n",
            "404/404 [==============================] - 0s 43us/sample - loss: 612.0592\n",
            "Epoch 11/100\n",
            "404/404 [==============================] - 0s 43us/sample - loss: 399.6728\n",
            "Epoch 12/100\n",
            "404/404 [==============================] - 0s 45us/sample - loss: 250.7691\n",
            "Epoch 13/100\n",
            "404/404 [==============================] - 0s 45us/sample - loss: 159.0978\n",
            "Epoch 14/100\n",
            "404/404 [==============================] - 0s 51us/sample - loss: 115.7542\n",
            "Epoch 15/100\n",
            "404/404 [==============================] - 0s 41us/sample - loss: 100.4723\n",
            "Epoch 16/100\n",
            "404/404 [==============================] - 0s 45us/sample - loss: 94.7566\n",
            "Epoch 17/100\n",
            "404/404 [==============================] - 0s 43us/sample - loss: 91.1839\n",
            "Epoch 18/100\n",
            "404/404 [==============================] - 0s 38us/sample - loss: 87.1190\n",
            "Epoch 19/100\n",
            "404/404 [==============================] - 0s 46us/sample - loss: 83.4221\n",
            "Epoch 20/100\n",
            "404/404 [==============================] - 0s 44us/sample - loss: 80.7501\n",
            "Epoch 21/100\n",
            "404/404 [==============================] - 0s 41us/sample - loss: 78.4979\n",
            "Epoch 22/100\n",
            "404/404 [==============================] - 0s 42us/sample - loss: 76.0312\n",
            "Epoch 23/100\n",
            "404/404 [==============================] - 0s 42us/sample - loss: 75.3101\n",
            "Epoch 24/100\n",
            "404/404 [==============================] - 0s 44us/sample - loss: 74.5890\n",
            "Epoch 25/100\n",
            "404/404 [==============================] - 0s 44us/sample - loss: 73.5643\n",
            "Epoch 26/100\n",
            "404/404 [==============================] - 0s 43us/sample - loss: 72.8752\n",
            "Epoch 27/100\n",
            "404/404 [==============================] - 0s 43us/sample - loss: 72.9867\n",
            "Epoch 28/100\n",
            "404/404 [==============================] - 0s 45us/sample - loss: 72.1615\n",
            "Epoch 29/100\n",
            "404/404 [==============================] - 0s 43us/sample - loss: 71.9512\n",
            "Epoch 30/100\n",
            "404/404 [==============================] - 0s 45us/sample - loss: 72.2781\n",
            "Epoch 31/100\n",
            "404/404 [==============================] - 0s 48us/sample - loss: 71.0623\n",
            "Epoch 32/100\n",
            "404/404 [==============================] - 0s 44us/sample - loss: 71.2346\n",
            "Epoch 33/100\n",
            "404/404 [==============================] - 0s 46us/sample - loss: 70.8263\n",
            "Epoch 34/100\n",
            "404/404 [==============================] - 0s 50us/sample - loss: 70.4835\n",
            "Epoch 35/100\n",
            "404/404 [==============================] - 0s 48us/sample - loss: 69.5899\n",
            "Epoch 36/100\n",
            "404/404 [==============================] - 0s 41us/sample - loss: 69.8545\n",
            "Epoch 37/100\n",
            "404/404 [==============================] - 0s 46us/sample - loss: 69.3023\n",
            "Epoch 38/100\n",
            "404/404 [==============================] - 0s 41us/sample - loss: 69.2142\n",
            "Epoch 39/100\n",
            "404/404 [==============================] - 0s 47us/sample - loss: 68.8328\n",
            "Epoch 40/100\n",
            "404/404 [==============================] - 0s 44us/sample - loss: 68.7292\n",
            "Epoch 41/100\n",
            "404/404 [==============================] - 0s 46us/sample - loss: 67.7340\n",
            "Epoch 42/100\n",
            "404/404 [==============================] - 0s 42us/sample - loss: 67.3960\n",
            "Epoch 43/100\n",
            "404/404 [==============================] - 0s 44us/sample - loss: 67.6782\n",
            "Epoch 44/100\n",
            "404/404 [==============================] - 0s 48us/sample - loss: 68.0073\n",
            "Epoch 45/100\n",
            "404/404 [==============================] - 0s 47us/sample - loss: 66.6882\n",
            "Epoch 46/100\n",
            "404/404 [==============================] - 0s 44us/sample - loss: 67.0812\n",
            "Epoch 47/100\n",
            "404/404 [==============================] - 0s 43us/sample - loss: 66.4871\n",
            "Epoch 48/100\n",
            "404/404 [==============================] - 0s 47us/sample - loss: 66.4046\n",
            "Epoch 49/100\n",
            "404/404 [==============================] - 0s 51us/sample - loss: 65.9119\n",
            "Epoch 50/100\n",
            "404/404 [==============================] - 0s 44us/sample - loss: 66.4576\n",
            "Epoch 51/100\n",
            "404/404 [==============================] - 0s 41us/sample - loss: 65.4643\n",
            "Epoch 52/100\n",
            "404/404 [==============================] - 0s 48us/sample - loss: 65.4813\n",
            "Epoch 53/100\n",
            "404/404 [==============================] - 0s 49us/sample - loss: 65.4021\n",
            "Epoch 54/100\n",
            "404/404 [==============================] - 0s 44us/sample - loss: 64.4326\n",
            "Epoch 55/100\n",
            "404/404 [==============================] - 0s 43us/sample - loss: 64.6905\n",
            "Epoch 56/100\n",
            "404/404 [==============================] - 0s 44us/sample - loss: 64.4557\n",
            "Epoch 57/100\n",
            "404/404 [==============================] - 0s 48us/sample - loss: 64.4217\n",
            "Epoch 58/100\n",
            "404/404 [==============================] - 0s 55us/sample - loss: 64.1148\n",
            "Epoch 59/100\n",
            "404/404 [==============================] - 0s 47us/sample - loss: 64.0463\n",
            "Epoch 60/100\n",
            "404/404 [==============================] - 0s 45us/sample - loss: 63.4852\n",
            "Epoch 61/100\n",
            "404/404 [==============================] - 0s 43us/sample - loss: 63.5006\n",
            "Epoch 62/100\n",
            "404/404 [==============================] - 0s 42us/sample - loss: 63.2698\n",
            "Epoch 63/100\n",
            "404/404 [==============================] - 0s 42us/sample - loss: 62.9754\n",
            "Epoch 64/100\n",
            "404/404 [==============================] - 0s 52us/sample - loss: 62.4731\n",
            "Epoch 65/100\n",
            "404/404 [==============================] - 0s 43us/sample - loss: 63.1634\n",
            "Epoch 66/100\n",
            "404/404 [==============================] - 0s 45us/sample - loss: 62.3479\n",
            "Epoch 67/100\n",
            "404/404 [==============================] - 0s 44us/sample - loss: 61.8858\n",
            "Epoch 68/100\n",
            "404/404 [==============================] - 0s 41us/sample - loss: 61.7545\n",
            "Epoch 69/100\n",
            "404/404 [==============================] - 0s 44us/sample - loss: 61.2662\n",
            "Epoch 70/100\n",
            "404/404 [==============================] - 0s 51us/sample - loss: 61.6166\n",
            "Epoch 71/100\n",
            "404/404 [==============================] - 0s 46us/sample - loss: 61.2339\n",
            "Epoch 72/100\n",
            "404/404 [==============================] - 0s 54us/sample - loss: 60.9851\n",
            "Epoch 73/100\n",
            "404/404 [==============================] - 0s 49us/sample - loss: 61.5225\n",
            "Epoch 74/100\n",
            "404/404 [==============================] - 0s 48us/sample - loss: 60.6249\n",
            "Epoch 75/100\n",
            "404/404 [==============================] - 0s 53us/sample - loss: 60.6595\n",
            "Epoch 76/100\n",
            "404/404 [==============================] - 0s 48us/sample - loss: 59.7285\n",
            "Epoch 77/100\n",
            "404/404 [==============================] - 0s 45us/sample - loss: 60.1042\n",
            "Epoch 78/100\n",
            "404/404 [==============================] - 0s 48us/sample - loss: 59.3591\n",
            "Epoch 79/100\n",
            "404/404 [==============================] - 0s 47us/sample - loss: 60.0674\n",
            "Epoch 80/100\n",
            "404/404 [==============================] - 0s 42us/sample - loss: 59.3995\n",
            "Epoch 81/100\n",
            "404/404 [==============================] - 0s 40us/sample - loss: 58.6988\n",
            "Epoch 82/100\n",
            "404/404 [==============================] - 0s 42us/sample - loss: 58.9512\n",
            "Epoch 83/100\n",
            "404/404 [==============================] - 0s 42us/sample - loss: 58.9888\n",
            "Epoch 84/100\n",
            "404/404 [==============================] - 0s 49us/sample - loss: 58.7040\n",
            "Epoch 85/100\n",
            "404/404 [==============================] - 0s 41us/sample - loss: 57.9502\n",
            "Epoch 86/100\n",
            "404/404 [==============================] - 0s 43us/sample - loss: 58.0587\n",
            "Epoch 87/100\n",
            "404/404 [==============================] - 0s 42us/sample - loss: 58.0209\n",
            "Epoch 88/100\n",
            "404/404 [==============================] - 0s 43us/sample - loss: 57.6267\n",
            "Epoch 89/100\n",
            "404/404 [==============================] - 0s 43us/sample - loss: 58.0024\n",
            "Epoch 90/100\n",
            "404/404 [==============================] - 0s 43us/sample - loss: 56.7772\n",
            "Epoch 91/100\n",
            "404/404 [==============================] - 0s 39us/sample - loss: 57.5089\n",
            "Epoch 92/100\n",
            "404/404 [==============================] - 0s 44us/sample - loss: 56.8947\n",
            "Epoch 93/100\n",
            "404/404 [==============================] - 0s 41us/sample - loss: 57.3944\n",
            "Epoch 94/100\n",
            "404/404 [==============================] - 0s 41us/sample - loss: 56.5416\n",
            "Epoch 95/100\n",
            "404/404 [==============================] - 0s 39us/sample - loss: 57.0648\n",
            "Epoch 96/100\n",
            "404/404 [==============================] - 0s 52us/sample - loss: 55.7549\n",
            "Epoch 97/100\n",
            "404/404 [==============================] - 0s 43us/sample - loss: 56.7579\n",
            "Epoch 98/100\n",
            "404/404 [==============================] - 0s 42us/sample - loss: 55.9139\n",
            "Epoch 99/100\n",
            "404/404 [==============================] - 0s 42us/sample - loss: 55.8589\n",
            "Epoch 100/100\n",
            "404/404 [==============================] - 0s 49us/sample - loss: 55.1798\n"
          ],
          "name": "stdout"
        },
        {
          "output_type": "execute_result",
          "data": {
            "text/plain": [
              "<tensorflow.python.keras.callbacks.History at 0x7f9b96037358>"
            ]
          },
          "metadata": {
            "tags": []
          },
          "execution_count": 6
        }
      ]
    },
    {
      "cell_type": "code",
      "metadata": {
        "id": "srvvwYufuoIt",
        "colab_type": "code",
        "colab": {
          "base_uri": "https://localhost:8080/",
          "height": 34
        },
        "outputId": "177743e6-46b3-4cb9-ce6b-5b12c855f7a8"
      },
      "source": [
        "x_train.shape"
      ],
      "execution_count": 30,
      "outputs": [
        {
          "output_type": "execute_result",
          "data": {
            "text/plain": [
              "(404, 13)"
            ]
          },
          "metadata": {
            "tags": []
          },
          "execution_count": 30
        }
      ]
    },
    {
      "cell_type": "code",
      "metadata": {
        "id": "ya5wMo1fusCC",
        "colab_type": "code",
        "colab": {
          "base_uri": "https://localhost:8080/",
          "height": 34
        },
        "outputId": "d66bea43-6934-40d4-ffe9-8746be02686d"
      },
      "source": [
        "y_train.shape"
      ],
      "execution_count": 31,
      "outputs": [
        {
          "output_type": "execute_result",
          "data": {
            "text/plain": [
              "(404,)"
            ]
          },
          "metadata": {
            "tags": []
          },
          "execution_count": 31
        }
      ]
    },
    {
      "cell_type": "code",
      "metadata": {
        "id": "WSiMB2sPQAy2",
        "colab_type": "code",
        "outputId": "689595d9-124b-4d9b-ab6d-621416ab877b",
        "colab": {
          "base_uri": "https://localhost:8080/",
          "height": 52
        }
      },
      "source": [
        "model.evaluate(x_test, y_test)"
      ],
      "execution_count": 0,
      "outputs": [
        {
          "output_type": "stream",
          "text": [
            "102/102 [==============================] - 0s 433us/sample - loss: 62.6815\n"
          ],
          "name": "stdout"
        },
        {
          "output_type": "execute_result",
          "data": {
            "text/plain": [
              "62.681537702971816"
            ]
          },
          "metadata": {
            "tags": []
          },
          "execution_count": 9
        }
      ]
    },
    {
      "cell_type": "code",
      "metadata": {
        "id": "ooG5Ol9YPfT8",
        "colab_type": "code",
        "outputId": "2191bbcf-a62d-4721-edb9-f7e8633d4152",
        "colab": {
          "base_uri": "https://localhost:8080/",
          "height": 281
        }
      },
      "source": [
        "# INPUT::\n",
        "# 1. crim: per capita crime rate by town.\n",
        "# 2. zn: proportion of residential land zoned for lots over 25,000 sq.ft.\n",
        "# 3. indus: proportion of non-retail business acres per town.\n",
        "# 4. chas: Charles River dummy variable (= 1 if tract bounds river; 0 otherwise).\n",
        "# 5. nox: nitrogen oxides concentration (parts per 10 million).\n",
        "# 6. rm: average number of rooms per dwelling.\n",
        "# 7. age: proportion of owner-occupied units built prior to 1940.\n",
        "# 8. dis: weighted mean of distances to five Boston employment centres.\n",
        "# 9. rad: index of accessibility to radial highways.\n",
        "# 10. tax: full-value property-tax rate per $10,000.\n",
        "# 11. ptratio: pupil-teacher ratio by town.\n",
        "# 12. black: 1000(Bk - 0.63)^2 where Bk is the proportion of blacks by town.\n",
        "# 13. lstat: lower status of the population (percent).\n",
        "\n",
        "# TARGET::\n",
        "# medv: median value of owner-occupied homes in $1000s.\n",
        "\n",
        "boston_housing = ['crim', 'zn', 'indus', 'chas', 'nox', 'rm', 'age',\n",
        "                  'dis', 'rad', 'tax', 'ptratio', 'black', 'lstat']\n",
        "\n",
        "for i in range(13):\n",
        "  plt.subplot(3,5,i+1)\n",
        "  plt.plot(x_train[:,i], y_train, '.')\n",
        "  plt.title(boston_housing[i])\n",
        "plt.show()"
      ],
      "execution_count": 28,
      "outputs": [
        {
          "output_type": "display_data",
          "data": {
            "image/png": "[encoded data removed]",
            "text/plain": [
              "<Figure size 432x288 with 13 Axes>"
            ]
          },
          "metadata": {
            "tags": []
          }
        }
      ]
    },
    {
      "cell_type": "markdown",
      "metadata": {
        "id": "r9Tl4qbDtL15",
        "colab_type": "text"
      },
      "source": [
        "for i in range(13)는 i에 0부터 12까지 대입\n",
        "plt.subplot(3, 5, i+1)은 3행 5열의 행렬  i+1번째 plot을 만든다. i는 0부터 시작한다.\n",
        "plt.plot(x_train[:, i]), y_train, '.')에서 x_trian[:, i]는 훈련시킨 x값 중 i번째이다.\n",
        "plt.show()로 그래프를 나타내기"
      ]
    },
    {
      "cell_type": "code",
      "metadata": {
        "id": "HAUjj1kbPHpl",
        "colab_type": "code",
        "outputId": "16f6c4e8-76ae-4890-ecda-09ab5ed3f6cf",
        "colab": {
          "base_uri": "https://localhost:8080/",
          "height": 34
        }
      },
      "source": [
        "model.predict(np.array([0, 90, 0, 1, 0, \n",
        "                        100, 0, 10, 0, 250, \n",
        "                        13, 300, 0]).reshape(1,13))"
      ],
      "execution_count": 33,
      "outputs": [
        {
          "output_type": "execute_result",
          "data": {
            "text/plain": [
              "array([[45.095303]], dtype=float32)"
            ]
          },
          "metadata": {
            "tags": []
          },
          "execution_count": 33
        }
      ]
    },
    {
      "cell_type": "code",
      "metadata": {
        "id": "V2fl6hj4MRGg",
        "colab_type": "code",
        "colab": {
          "base_uri": "https://localhost:8080/",
          "height": 34
        },
        "outputId": "7d6663bf-3b18-4c3b-a5a1-8c361b1943ef"
      },
      "source": [
        "model.predict(np.array([100, 10, 25, 0, 1, \n",
        "                        50, 100, 0, 25, 700, \n",
        "                        23, 0, 30]).reshape(1,13))"
      ],
      "execution_count": 34,
      "outputs": [
        {
          "output_type": "execute_result",
          "data": {
            "text/plain": [
              "array([[6.464827]], dtype=float32)"
            ]
          },
          "metadata": {
            "tags": []
          },
          "execution_count": 34
        }
      ]
    },
    {
      "cell_type": "code",
      "metadata": {
        "id": "bG8C7HBkwZ5W",
        "colab_type": "code",
        "colab": {}
      },
      "source": [
        ""
      ],
      "execution_count": 0,
      "outputs": []
    }
  ]
}